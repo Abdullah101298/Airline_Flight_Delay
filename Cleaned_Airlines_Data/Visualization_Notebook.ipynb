{
 "cells": [
  {
   "cell_type": "code",
   "execution_count": 19,
   "metadata": {},
   "outputs": [],
   "source": [
    "import plotly.express as px\n",
    "import pandas as pd\n",
    "import datetime as dt"
   ]
  },
  {
   "cell_type": "code",
   "execution_count": 20,
   "metadata": {},
   "outputs": [],
   "source": [
    "data2009 = pd.read_csv(\"Cleaned_Airlines_Data/2009_airlines_max_ARR_Delay.csv\")\n",
    "data2018 = pd.read_csv(\"Cleaned_Airlines_Data/2018_airlines_max_ARR_Delay.csv\")"
   ]
  },
  {
   "cell_type": "code",
   "execution_count": null,
   "metadata": {},
   "outputs": [],
   "source": []
  },
  {
   "cell_type": "code",
   "execution_count": 21,
   "metadata": {},
   "outputs": [],
   "source": [
    "data2009 = data2009.rename(columns={\"Airline Identifier\": \"Airline_Identifier\"})\n",
    "data2018 = data2018.rename(columns={\"Airline Identifier\": \"Airline_Identifier\"})"
   ]
  },
  {
   "cell_type": "code",
   "execution_count": 22,
   "metadata": {
    "scrolled": true
   },
   "outputs": [
    {
     "data": {
      "text/html": [
       "<div>\n",
       "<style scoped>\n",
       "    .dataframe tbody tr th:only-of-type {\n",
       "        vertical-align: middle;\n",
       "    }\n",
       "\n",
       "    .dataframe tbody tr th {\n",
       "        vertical-align: top;\n",
       "    }\n",
       "\n",
       "    .dataframe thead th {\n",
       "        text-align: right;\n",
       "    }\n",
       "</style>\n",
       "<table border=\"1\" class=\"dataframe\">\n",
       "  <thead>\n",
       "    <tr style=\"text-align: right;\">\n",
       "      <th></th>\n",
       "      <th>Date of Flight</th>\n",
       "      <th>Airline_Identifier</th>\n",
       "      <th>Flight No.</th>\n",
       "      <th>Origin</th>\n",
       "      <th>Destination</th>\n",
       "      <th>DEP_DELAY</th>\n",
       "      <th>ARR_DELAY</th>\n",
       "      <th>Date of Flight_month</th>\n",
       "      <th>Date of Flight_weekday</th>\n",
       "    </tr>\n",
       "  </thead>\n",
       "  <tbody>\n",
       "    <tr>\n",
       "      <td>0</td>\n",
       "      <td>2009-01-01</td>\n",
       "      <td>WN</td>\n",
       "      <td>45</td>\n",
       "      <td>ABQ</td>\n",
       "      <td>DAL</td>\n",
       "      <td>1.233333</td>\n",
       "      <td>1.133333</td>\n",
       "      <td>1</td>\n",
       "      <td>Thursday</td>\n",
       "    </tr>\n",
       "    <tr>\n",
       "      <td>1</td>\n",
       "      <td>2009-01-01</td>\n",
       "      <td>WN</td>\n",
       "      <td>3190</td>\n",
       "      <td>ABQ</td>\n",
       "      <td>LAX</td>\n",
       "      <td>1.500000</td>\n",
       "      <td>1.250000</td>\n",
       "      <td>1</td>\n",
       "      <td>Thursday</td>\n",
       "    </tr>\n",
       "    <tr>\n",
       "      <td>2</td>\n",
       "      <td>2009-01-01</td>\n",
       "      <td>WN</td>\n",
       "      <td>413</td>\n",
       "      <td>ABQ</td>\n",
       "      <td>MAF</td>\n",
       "      <td>1.350000</td>\n",
       "      <td>1.283333</td>\n",
       "      <td>1</td>\n",
       "      <td>Thursday</td>\n",
       "    </tr>\n",
       "    <tr>\n",
       "      <td>3</td>\n",
       "      <td>2009-01-01</td>\n",
       "      <td>WN</td>\n",
       "      <td>109</td>\n",
       "      <td>BHM</td>\n",
       "      <td>BNA</td>\n",
       "      <td>1.116667</td>\n",
       "      <td>1.033333</td>\n",
       "      <td>1</td>\n",
       "      <td>Thursday</td>\n",
       "    </tr>\n",
       "    <tr>\n",
       "      <td>4</td>\n",
       "      <td>2009-01-01</td>\n",
       "      <td>WN</td>\n",
       "      <td>109</td>\n",
       "      <td>BNA</td>\n",
       "      <td>OAK</td>\n",
       "      <td>1.133333</td>\n",
       "      <td>1.433333</td>\n",
       "      <td>1</td>\n",
       "      <td>Thursday</td>\n",
       "    </tr>\n",
       "    <tr>\n",
       "      <td>...</td>\n",
       "      <td>...</td>\n",
       "      <td>...</td>\n",
       "      <td>...</td>\n",
       "      <td>...</td>\n",
       "      <td>...</td>\n",
       "      <td>...</td>\n",
       "      <td>...</td>\n",
       "      <td>...</td>\n",
       "      <td>...</td>\n",
       "    </tr>\n",
       "    <tr>\n",
       "      <td>58465</td>\n",
       "      <td>2009-12-31</td>\n",
       "      <td>DL</td>\n",
       "      <td>1885</td>\n",
       "      <td>BWI</td>\n",
       "      <td>ATL</td>\n",
       "      <td>0.933333</td>\n",
       "      <td>1.066667</td>\n",
       "      <td>12</td>\n",
       "      <td>Thursday</td>\n",
       "    </tr>\n",
       "    <tr>\n",
       "      <td>58466</td>\n",
       "      <td>2009-12-31</td>\n",
       "      <td>DL</td>\n",
       "      <td>1990</td>\n",
       "      <td>MIA</td>\n",
       "      <td>ATL</td>\n",
       "      <td>2.050000</td>\n",
       "      <td>2.016667</td>\n",
       "      <td>12</td>\n",
       "      <td>Thursday</td>\n",
       "    </tr>\n",
       "    <tr>\n",
       "      <td>58467</td>\n",
       "      <td>2009-12-31</td>\n",
       "      <td>DL</td>\n",
       "      <td>2008</td>\n",
       "      <td>ATL</td>\n",
       "      <td>EWR</td>\n",
       "      <td>1.933333</td>\n",
       "      <td>1.816667</td>\n",
       "      <td>12</td>\n",
       "      <td>Thursday</td>\n",
       "    </tr>\n",
       "    <tr>\n",
       "      <td>58468</td>\n",
       "      <td>2009-12-31</td>\n",
       "      <td>DL</td>\n",
       "      <td>2015</td>\n",
       "      <td>EWR</td>\n",
       "      <td>ATL</td>\n",
       "      <td>1.933333</td>\n",
       "      <td>1.800000</td>\n",
       "      <td>12</td>\n",
       "      <td>Thursday</td>\n",
       "    </tr>\n",
       "    <tr>\n",
       "      <td>58469</td>\n",
       "      <td>2009-12-31</td>\n",
       "      <td>DL</td>\n",
       "      <td>2082</td>\n",
       "      <td>JFK</td>\n",
       "      <td>BOS</td>\n",
       "      <td>1.600000</td>\n",
       "      <td>1.083333</td>\n",
       "      <td>12</td>\n",
       "      <td>Thursday</td>\n",
       "    </tr>\n",
       "  </tbody>\n",
       "</table>\n",
       "<p>58470 rows × 9 columns</p>\n",
       "</div>"
      ],
      "text/plain": [
       "      Date of Flight Airline_Identifier  Flight No. Origin Destination  \\\n",
       "0         2009-01-01                 WN          45    ABQ         DAL   \n",
       "1         2009-01-01                 WN        3190    ABQ         LAX   \n",
       "2         2009-01-01                 WN         413    ABQ         MAF   \n",
       "3         2009-01-01                 WN         109    BHM         BNA   \n",
       "4         2009-01-01                 WN         109    BNA         OAK   \n",
       "...              ...                ...         ...    ...         ...   \n",
       "58465     2009-12-31                 DL        1885    BWI         ATL   \n",
       "58466     2009-12-31                 DL        1990    MIA         ATL   \n",
       "58467     2009-12-31                 DL        2008    ATL         EWR   \n",
       "58468     2009-12-31                 DL        2015    EWR         ATL   \n",
       "58469     2009-12-31                 DL        2082    JFK         BOS   \n",
       "\n",
       "       DEP_DELAY  ARR_DELAY  Date of Flight_month Date of Flight_weekday  \n",
       "0       1.233333   1.133333                     1               Thursday  \n",
       "1       1.500000   1.250000                     1               Thursday  \n",
       "2       1.350000   1.283333                     1               Thursday  \n",
       "3       1.116667   1.033333                     1               Thursday  \n",
       "4       1.133333   1.433333                     1               Thursday  \n",
       "...          ...        ...                   ...                    ...  \n",
       "58465   0.933333   1.066667                    12               Thursday  \n",
       "58466   2.050000   2.016667                    12               Thursday  \n",
       "58467   1.933333   1.816667                    12               Thursday  \n",
       "58468   1.933333   1.800000                    12               Thursday  \n",
       "58469   1.600000   1.083333                    12               Thursday  \n",
       "\n",
       "[58470 rows x 9 columns]"
      ]
     },
     "execution_count": 22,
     "metadata": {},
     "output_type": "execute_result"
    }
   ],
   "source": [
    "data2009"
   ]
  },
  {
   "cell_type": "code",
   "execution_count": 23,
   "metadata": {},
   "outputs": [],
   "source": [
    "data2009.columns = ['Date_of_Flight', 'Airline_Identifier', 'Flight_No.','Origin',\n",
    "                                  'Destination','DEP_DELAY','ARR_DELAY','Month_of_Flight','Day_of_Flight'] "
   ]
  },
  {
   "cell_type": "code",
   "execution_count": 24,
   "metadata": {},
   "outputs": [
    {
     "data": {
      "text/html": [
       "<div>\n",
       "<style scoped>\n",
       "    .dataframe tbody tr th:only-of-type {\n",
       "        vertical-align: middle;\n",
       "    }\n",
       "\n",
       "    .dataframe tbody tr th {\n",
       "        vertical-align: top;\n",
       "    }\n",
       "\n",
       "    .dataframe thead th {\n",
       "        text-align: right;\n",
       "    }\n",
       "</style>\n",
       "<table border=\"1\" class=\"dataframe\">\n",
       "  <thead>\n",
       "    <tr style=\"text-align: right;\">\n",
       "      <th></th>\n",
       "      <th>Date_of_Flight</th>\n",
       "      <th>Airline_Identifier</th>\n",
       "      <th>Flight_No.</th>\n",
       "      <th>Origin</th>\n",
       "      <th>Destination</th>\n",
       "      <th>DEP_DELAY</th>\n",
       "      <th>ARR_DELAY</th>\n",
       "      <th>Month_of_Flight</th>\n",
       "      <th>Day_of_Flight</th>\n",
       "    </tr>\n",
       "  </thead>\n",
       "  <tbody>\n",
       "    <tr>\n",
       "      <td>0</td>\n",
       "      <td>2009-01-01</td>\n",
       "      <td>WN</td>\n",
       "      <td>45</td>\n",
       "      <td>ABQ</td>\n",
       "      <td>DAL</td>\n",
       "      <td>1.233333</td>\n",
       "      <td>1.133333</td>\n",
       "      <td>1</td>\n",
       "      <td>Thursday</td>\n",
       "    </tr>\n",
       "    <tr>\n",
       "      <td>1</td>\n",
       "      <td>2009-01-01</td>\n",
       "      <td>WN</td>\n",
       "      <td>3190</td>\n",
       "      <td>ABQ</td>\n",
       "      <td>LAX</td>\n",
       "      <td>1.500000</td>\n",
       "      <td>1.250000</td>\n",
       "      <td>1</td>\n",
       "      <td>Thursday</td>\n",
       "    </tr>\n",
       "    <tr>\n",
       "      <td>2</td>\n",
       "      <td>2009-01-01</td>\n",
       "      <td>WN</td>\n",
       "      <td>413</td>\n",
       "      <td>ABQ</td>\n",
       "      <td>MAF</td>\n",
       "      <td>1.350000</td>\n",
       "      <td>1.283333</td>\n",
       "      <td>1</td>\n",
       "      <td>Thursday</td>\n",
       "    </tr>\n",
       "    <tr>\n",
       "      <td>3</td>\n",
       "      <td>2009-01-01</td>\n",
       "      <td>WN</td>\n",
       "      <td>109</td>\n",
       "      <td>BHM</td>\n",
       "      <td>BNA</td>\n",
       "      <td>1.116667</td>\n",
       "      <td>1.033333</td>\n",
       "      <td>1</td>\n",
       "      <td>Thursday</td>\n",
       "    </tr>\n",
       "    <tr>\n",
       "      <td>4</td>\n",
       "      <td>2009-01-01</td>\n",
       "      <td>WN</td>\n",
       "      <td>109</td>\n",
       "      <td>BNA</td>\n",
       "      <td>OAK</td>\n",
       "      <td>1.133333</td>\n",
       "      <td>1.433333</td>\n",
       "      <td>1</td>\n",
       "      <td>Thursday</td>\n",
       "    </tr>\n",
       "  </tbody>\n",
       "</table>\n",
       "</div>"
      ],
      "text/plain": [
       "  Date_of_Flight Airline_Identifier  Flight_No. Origin Destination  DEP_DELAY  \\\n",
       "0     2009-01-01                 WN          45    ABQ         DAL   1.233333   \n",
       "1     2009-01-01                 WN        3190    ABQ         LAX   1.500000   \n",
       "2     2009-01-01                 WN         413    ABQ         MAF   1.350000   \n",
       "3     2009-01-01                 WN         109    BHM         BNA   1.116667   \n",
       "4     2009-01-01                 WN         109    BNA         OAK   1.133333   \n",
       "\n",
       "   ARR_DELAY  Month_of_Flight Day_of_Flight  \n",
       "0   1.133333                1      Thursday  \n",
       "1   1.250000                1      Thursday  \n",
       "2   1.283333                1      Thursday  \n",
       "3   1.033333                1      Thursday  \n",
       "4   1.433333                1      Thursday  "
      ]
     },
     "execution_count": 24,
     "metadata": {},
     "output_type": "execute_result"
    }
   ],
   "source": [
    "data2009.head()"
   ]
  },
  {
   "cell_type": "code",
   "execution_count": 25,
   "metadata": {},
   "outputs": [],
   "source": [
    "data2018.columns = ['Date_of_Flight', 'Airline_Identifier', 'Flight_No.','Origin',\n",
    "                                  'Destination','DEP_DELAY','ARR_DELAY','Month_of_Flight','Day_of_Flight'] "
   ]
  },
  {
   "cell_type": "code",
   "execution_count": 42,
   "metadata": {},
   "outputs": [],
   "source": [
    "data2009['Date_of_Flight']=pd.to_datetime(data2009['Date_of_Flight'])\n",
    "\n",
    "data2018['Date_of_Flight']=pd.to_datetime(data2018['Date_of_Flight'])\n"
   ]
  },
  {
   "cell_type": "code",
   "execution_count": 43,
   "metadata": {},
   "outputs": [],
   "source": [
    "data2009['Date_of_Flight'] = data2009['Date_of_Flight'].dt.strftime('%m/%d/%Y')\n",
    "data2018['Date_of_Flight'] = data2018['Date_of_Flight'].dt.strftime('%m/%d/%Y')\n"
   ]
  },
  {
   "cell_type": "code",
   "execution_count": 68,
   "metadata": {},
   "outputs": [],
   "source": [
    "mergedDf = data2009.append(data2018)\n",
    "# mergedDf.groupby(mergedDf.index)"
   ]
  },
  {
   "cell_type": "code",
   "execution_count": 69,
   "metadata": {},
   "outputs": [],
   "source": [
    "# mergedDf = data2009.append(data2018).set_index('Date_of_Flight')\n",
    "\n",
    "mergedDf.to_json('records.json', orient='records')\n",
    "mergedDf.to_json('columns.json',orient = 'table')"
   ]
  },
  {
   "cell_type": "code",
   "execution_count": 65,
   "metadata": {},
   "outputs": [],
   "source": [
    "data_WM_2009 = len(data2009[data2009.Airline_Identifier == 'WN'])\n",
    "data_DL_2009 = len(data2009[data2009.Airline_Identifier == 'DL'])\n",
    "data_WM_2018 = len(data2018[data2018.Airline_Identifier == 'WN'])\n",
    "data_DL_2018 = len(data2018[data2018.Airline_Identifier == 'DL'])"
   ]
  },
  {
   "cell_type": "code",
   "execution_count": null,
   "metadata": {},
   "outputs": [],
   "source": []
  },
  {
   "cell_type": "code",
   "execution_count": null,
   "metadata": {},
   "outputs": [],
   "source": [
    "h2009 = [data_WM_2009,data_DL_2009,data_WM_2018,data_DL_2018]\n",
    "year = ['2009','2009','2018','2018']\n",
    "air= ['WN','DL','WN','DL']\n",
    "hdf09=pd.DataFrame(h2009,air)\n",
    "hdf09=hdf09.reset_index()\n",
    "hdf18=pd.DataFrame(year,air)\n",
    "hdf18=hdf18.reset_index()"
   ]
  },
  {
   "cell_type": "code",
   "execution_count": null,
   "metadata": {},
   "outputs": [],
   "source": [
    "hdf09=hdf09.rename(columns = {'index':'airline', 0:'count'})\n",
    "hdf18=hdf18.rename(columns = {'index':'airline', 0:'year'})"
   ]
  },
  {
   "cell_type": "code",
   "execution_count": null,
   "metadata": {},
   "outputs": [],
   "source": [
    "hdf = pd.merge(hdf09,hdf18,on = 'airline')\n",
    "hdf = pd.DataFrame([hdf.iloc[0],hdf.iloc[3],hdf.iloc[4],hdf.iloc[7]])"
   ]
  },
  {
   "cell_type": "code",
   "execution_count": null,
   "metadata": {},
   "outputs": [],
   "source": [
    "hdf"
   ]
  },
  {
   "cell_type": "code",
   "execution_count": null,
   "metadata": {
    "scrolled": true
   },
   "outputs": [],
   "source": [
    "fig = px.bar(hdf, x='airline', y='count',color='year', barmode='group')\n",
    "fig.show()"
   ]
  },
  {
   "cell_type": "code",
   "execution_count": null,
   "metadata": {},
   "outputs": [],
   "source": []
  },
  {
   "cell_type": "code",
   "execution_count": null,
   "metadata": {},
   "outputs": [],
   "source": []
  }
 ],
 "metadata": {
  "kernelspec": {
   "display_name": "Python 3",
   "language": "python",
   "name": "python3"
  },
  "language_info": {
   "codemirror_mode": {
    "name": "ipython",
    "version": 3
   },
   "file_extension": ".py",
   "mimetype": "text/x-python",
   "name": "python",
   "nbconvert_exporter": "python",
   "pygments_lexer": "ipython3",
   "version": "3.7.4"
  }
 },
 "nbformat": 4,
 "nbformat_minor": 2
}
