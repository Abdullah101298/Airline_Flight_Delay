{
 "cells": [
  {
   "cell_type": "markdown",
   "metadata": {},
   "source": [
    "LOADING OF DATA"
   ]
  },
  {
   "cell_type": "code",
   "execution_count": 1,
   "metadata": {},
   "outputs": [],
   "source": [
    "# dependancies\n",
    "import pandas as pd\n",
    "import numpy as np"
   ]
  },
  {
   "cell_type": "code",
   "execution_count": 2,
   "metadata": {},
   "outputs": [
    {
     "output_type": "execute_result",
     "data": {
      "text/plain": "         FL_DATE OP_CARRIER  OP_CARRIER_FL_NUM ORIGIN DEST  DEP_DELAY  \\\n0         1/1/18         UA               2429    EWR  DEN       -5.0   \n1         1/1/18         UA               2427    LAS  SFO       -8.0   \n2         1/1/18         UA               2426    SNA  DEN       -5.0   \n3         1/1/18         UA               2425    RSW  ORD        6.0   \n4         1/1/18         UA               2424    ORD  ALB       20.0   \n...          ...        ...                ...    ...  ...        ...   \n1048570  2/26/18         DL               2393    ATL  FLL       -3.0   \n1048571  2/26/18         DL               2393    FLL  ATL       -8.0   \n1048572  2/26/18         DL               2394    ATL  PHL        8.0   \n1048573  2/26/18         DL               2395    PBI  LGA       -6.0   \n1048574  2/26/18         DL               2396    ATL  RSW       -3.0   \n\n         ARR_DELAY  CANCELLED  \n0            -23.0          0  \n1            -24.0          0  \n2            -13.0          0  \n3             -2.0          0  \n4             14.0          0  \n...            ...        ...  \n1048570      -14.0          0  \n1048571      -19.0          0  \n1048572       -3.0          0  \n1048573      -31.0          0  \n1048574      -10.0          0  \n\n[1048575 rows x 8 columns]",
      "text/html": "<div>\n<style scoped>\n    .dataframe tbody tr th:only-of-type {\n        vertical-align: middle;\n    }\n\n    .dataframe tbody tr th {\n        vertical-align: top;\n    }\n\n    .dataframe thead th {\n        text-align: right;\n    }\n</style>\n<table border=\"1\" class=\"dataframe\">\n  <thead>\n    <tr style=\"text-align: right;\">\n      <th></th>\n      <th>FL_DATE</th>\n      <th>OP_CARRIER</th>\n      <th>OP_CARRIER_FL_NUM</th>\n      <th>ORIGIN</th>\n      <th>DEST</th>\n      <th>DEP_DELAY</th>\n      <th>ARR_DELAY</th>\n      <th>CANCELLED</th>\n    </tr>\n  </thead>\n  <tbody>\n    <tr>\n      <td>0</td>\n      <td>1/1/18</td>\n      <td>UA</td>\n      <td>2429</td>\n      <td>EWR</td>\n      <td>DEN</td>\n      <td>-5.0</td>\n      <td>-23.0</td>\n      <td>0</td>\n    </tr>\n    <tr>\n      <td>1</td>\n      <td>1/1/18</td>\n      <td>UA</td>\n      <td>2427</td>\n      <td>LAS</td>\n      <td>SFO</td>\n      <td>-8.0</td>\n      <td>-24.0</td>\n      <td>0</td>\n    </tr>\n    <tr>\n      <td>2</td>\n      <td>1/1/18</td>\n      <td>UA</td>\n      <td>2426</td>\n      <td>SNA</td>\n      <td>DEN</td>\n      <td>-5.0</td>\n      <td>-13.0</td>\n      <td>0</td>\n    </tr>\n    <tr>\n      <td>3</td>\n      <td>1/1/18</td>\n      <td>UA</td>\n      <td>2425</td>\n      <td>RSW</td>\n      <td>ORD</td>\n      <td>6.0</td>\n      <td>-2.0</td>\n      <td>0</td>\n    </tr>\n    <tr>\n      <td>4</td>\n      <td>1/1/18</td>\n      <td>UA</td>\n      <td>2424</td>\n      <td>ORD</td>\n      <td>ALB</td>\n      <td>20.0</td>\n      <td>14.0</td>\n      <td>0</td>\n    </tr>\n    <tr>\n      <td>...</td>\n      <td>...</td>\n      <td>...</td>\n      <td>...</td>\n      <td>...</td>\n      <td>...</td>\n      <td>...</td>\n      <td>...</td>\n      <td>...</td>\n    </tr>\n    <tr>\n      <td>1048570</td>\n      <td>2/26/18</td>\n      <td>DL</td>\n      <td>2393</td>\n      <td>ATL</td>\n      <td>FLL</td>\n      <td>-3.0</td>\n      <td>-14.0</td>\n      <td>0</td>\n    </tr>\n    <tr>\n      <td>1048571</td>\n      <td>2/26/18</td>\n      <td>DL</td>\n      <td>2393</td>\n      <td>FLL</td>\n      <td>ATL</td>\n      <td>-8.0</td>\n      <td>-19.0</td>\n      <td>0</td>\n    </tr>\n    <tr>\n      <td>1048572</td>\n      <td>2/26/18</td>\n      <td>DL</td>\n      <td>2394</td>\n      <td>ATL</td>\n      <td>PHL</td>\n      <td>8.0</td>\n      <td>-3.0</td>\n      <td>0</td>\n    </tr>\n    <tr>\n      <td>1048573</td>\n      <td>2/26/18</td>\n      <td>DL</td>\n      <td>2395</td>\n      <td>PBI</td>\n      <td>LGA</td>\n      <td>-6.0</td>\n      <td>-31.0</td>\n      <td>0</td>\n    </tr>\n    <tr>\n      <td>1048574</td>\n      <td>2/26/18</td>\n      <td>DL</td>\n      <td>2396</td>\n      <td>ATL</td>\n      <td>RSW</td>\n      <td>-3.0</td>\n      <td>-10.0</td>\n      <td>0</td>\n    </tr>\n  </tbody>\n</table>\n<p>1048575 rows × 8 columns</p>\n</div>"
     },
     "metadata": {},
     "execution_count": 2
    }
   ],
   "source": [
    "# file to load\n",
    "\"Resources/ufoSightings.csv\"\n",
    "year_2018_file = \"../Data/2018.csv\"\n",
    "\n",
    "# Read Purchasing File and store into Pandas data frame\n",
    "year_2018_fileDF = pd.read_csv(year_2018_file)\n",
    "\n",
    "year_2018_fileDF"
   ]
  },
  {
   "cell_type": "markdown",
   "metadata": {},
   "source": [
    "    DATA CLEANUP"
   ]
  },
  {
   "cell_type": "code",
   "execution_count": 3,
   "metadata": {},
   "outputs": [
    {
     "output_type": "execute_result",
     "data": {
      "text/plain": "Index(['FL_DATE', 'OP_CARRIER', 'OP_CARRIER_FL_NUM', 'ORIGIN', 'DEST',\n       'DEP_DELAY', 'ARR_DELAY', 'CANCELLED'],\n      dtype='object')"
     },
     "metadata": {},
     "execution_count": 3
    }
   ],
   "source": [
    "# list the columns\n",
    "year_2018_fileDF.columns"
   ]
  },
  {
   "cell_type": "code",
   "execution_count": 4,
   "metadata": {},
   "outputs": [
    {
     "output_type": "execute_result",
     "data": {
      "text/plain": "  Date of Flight Airline Identifier  Flight No. Origin Destination  DEP_DELAY  \\\n0         1/1/18                 UA        2429    EWR         DEN       -5.0   \n1         1/1/18                 UA        2427    LAS         SFO       -8.0   \n2         1/1/18                 UA        2426    SNA         DEN       -5.0   \n3         1/1/18                 UA        2425    RSW         ORD        6.0   \n4         1/1/18                 UA        2424    ORD         ALB       20.0   \n\n   ARR_DELAY  CANCELLED  \n0      -23.0          0  \n1      -24.0          0  \n2      -13.0          0  \n3       -2.0          0  \n4       14.0          0  ",
      "text/html": "<div>\n<style scoped>\n    .dataframe tbody tr th:only-of-type {\n        vertical-align: middle;\n    }\n\n    .dataframe tbody tr th {\n        vertical-align: top;\n    }\n\n    .dataframe thead th {\n        text-align: right;\n    }\n</style>\n<table border=\"1\" class=\"dataframe\">\n  <thead>\n    <tr style=\"text-align: right;\">\n      <th></th>\n      <th>Date of Flight</th>\n      <th>Airline Identifier</th>\n      <th>Flight No.</th>\n      <th>Origin</th>\n      <th>Destination</th>\n      <th>DEP_DELAY</th>\n      <th>ARR_DELAY</th>\n      <th>CANCELLED</th>\n    </tr>\n  </thead>\n  <tbody>\n    <tr>\n      <td>0</td>\n      <td>1/1/18</td>\n      <td>UA</td>\n      <td>2429</td>\n      <td>EWR</td>\n      <td>DEN</td>\n      <td>-5.0</td>\n      <td>-23.0</td>\n      <td>0</td>\n    </tr>\n    <tr>\n      <td>1</td>\n      <td>1/1/18</td>\n      <td>UA</td>\n      <td>2427</td>\n      <td>LAS</td>\n      <td>SFO</td>\n      <td>-8.0</td>\n      <td>-24.0</td>\n      <td>0</td>\n    </tr>\n    <tr>\n      <td>2</td>\n      <td>1/1/18</td>\n      <td>UA</td>\n      <td>2426</td>\n      <td>SNA</td>\n      <td>DEN</td>\n      <td>-5.0</td>\n      <td>-13.0</td>\n      <td>0</td>\n    </tr>\n    <tr>\n      <td>3</td>\n      <td>1/1/18</td>\n      <td>UA</td>\n      <td>2425</td>\n      <td>RSW</td>\n      <td>ORD</td>\n      <td>6.0</td>\n      <td>-2.0</td>\n      <td>0</td>\n    </tr>\n    <tr>\n      <td>4</td>\n      <td>1/1/18</td>\n      <td>UA</td>\n      <td>2424</td>\n      <td>ORD</td>\n      <td>ALB</td>\n      <td>20.0</td>\n      <td>14.0</td>\n      <td>0</td>\n    </tr>\n  </tbody>\n</table>\n</div>"
     },
     "metadata": {},
     "execution_count": 4
    }
   ],
   "source": [
    "# picking only the needed columns\n",
    "year_2018_fileDF_clean = year_2018_fileDF[['FL_DATE', 'OP_CARRIER', 'OP_CARRIER_FL_NUM', 'ORIGIN','DEST',\n",
    "      'DEP_DELAY','ARR_DELAY','CANCELLED']]\n",
    "\n",
    "\n",
    "# Renaming the selected columns\n",
    "\n",
    "year_2018_fileDF_clean.columns = ['Date of Flight', 'Airline Identifier', 'Flight No.','Origin',\n",
    "                                  'Destination','DEP_DELAY','ARR_DELAY','CANCELLED'] \n",
    "year_2018_fileDF_clean.head()\n",
    "# print (year_2018_fileDF_clean.shape)"
   ]
  },
  {
   "cell_type": "code",
   "execution_count": 5,
   "metadata": {},
   "outputs": [
    {
     "output_type": "execute_result",
     "data": {
      "text/plain": "        Date of Flight Airline Identifier  Flight No. Origin Destination  \\\n8538            1/1/18                 WN        1491    ABQ         BWI   \n8539            1/1/18                 WN          39    ABQ         DAL   \n8540            1/1/18                 WN         313    ABQ         DAL   \n8541            1/1/18                 WN         395    ABQ         DAL   \n8542            1/1/18                 WN        1220    ABQ         DAL   \n...                ...                ...         ...    ...         ...   \n1041838        2/26/18                 WN        1731    BNA         LGA   \n1041839        2/26/18                 WN        2028    BNA         LGA   \n1041840        2/26/18                 WN         611    BNA         MCI   \n1041841        2/26/18                 WN         672    BNA         MCI   \n1041842        2/26/18                 WN        2052    BNA         MCI   \n\n         DEP_DELAY  ARR_DELAY  CANCELLED  \n8538           7.0      -13.0          0  \n8539          -3.0      -17.0          0  \n8540          -1.0      -14.0          0  \n8541           0.0        0.0          0  \n8542          -7.0      -17.0          0  \n...            ...        ...        ...  \n1041838       -3.0      -15.0          0  \n1041839       -3.0      -31.0          0  \n1041840       -1.0       -4.0          0  \n1041841       12.0        7.0          0  \n1041842       -3.0       -7.0          0  \n\n[194587 rows x 8 columns]",
      "text/html": "<div>\n<style scoped>\n    .dataframe tbody tr th:only-of-type {\n        vertical-align: middle;\n    }\n\n    .dataframe tbody tr th {\n        vertical-align: top;\n    }\n\n    .dataframe thead th {\n        text-align: right;\n    }\n</style>\n<table border=\"1\" class=\"dataframe\">\n  <thead>\n    <tr style=\"text-align: right;\">\n      <th></th>\n      <th>Date of Flight</th>\n      <th>Airline Identifier</th>\n      <th>Flight No.</th>\n      <th>Origin</th>\n      <th>Destination</th>\n      <th>DEP_DELAY</th>\n      <th>ARR_DELAY</th>\n      <th>CANCELLED</th>\n    </tr>\n  </thead>\n  <tbody>\n    <tr>\n      <td>8538</td>\n      <td>1/1/18</td>\n      <td>WN</td>\n      <td>1491</td>\n      <td>ABQ</td>\n      <td>BWI</td>\n      <td>7.0</td>\n      <td>-13.0</td>\n      <td>0</td>\n    </tr>\n    <tr>\n      <td>8539</td>\n      <td>1/1/18</td>\n      <td>WN</td>\n      <td>39</td>\n      <td>ABQ</td>\n      <td>DAL</td>\n      <td>-3.0</td>\n      <td>-17.0</td>\n      <td>0</td>\n    </tr>\n    <tr>\n      <td>8540</td>\n      <td>1/1/18</td>\n      <td>WN</td>\n      <td>313</td>\n      <td>ABQ</td>\n      <td>DAL</td>\n      <td>-1.0</td>\n      <td>-14.0</td>\n      <td>0</td>\n    </tr>\n    <tr>\n      <td>8541</td>\n      <td>1/1/18</td>\n      <td>WN</td>\n      <td>395</td>\n      <td>ABQ</td>\n      <td>DAL</td>\n      <td>0.0</td>\n      <td>0.0</td>\n      <td>0</td>\n    </tr>\n    <tr>\n      <td>8542</td>\n      <td>1/1/18</td>\n      <td>WN</td>\n      <td>1220</td>\n      <td>ABQ</td>\n      <td>DAL</td>\n      <td>-7.0</td>\n      <td>-17.0</td>\n      <td>0</td>\n    </tr>\n    <tr>\n      <td>...</td>\n      <td>...</td>\n      <td>...</td>\n      <td>...</td>\n      <td>...</td>\n      <td>...</td>\n      <td>...</td>\n      <td>...</td>\n      <td>...</td>\n    </tr>\n    <tr>\n      <td>1041838</td>\n      <td>2/26/18</td>\n      <td>WN</td>\n      <td>1731</td>\n      <td>BNA</td>\n      <td>LGA</td>\n      <td>-3.0</td>\n      <td>-15.0</td>\n      <td>0</td>\n    </tr>\n    <tr>\n      <td>1041839</td>\n      <td>2/26/18</td>\n      <td>WN</td>\n      <td>2028</td>\n      <td>BNA</td>\n      <td>LGA</td>\n      <td>-3.0</td>\n      <td>-31.0</td>\n      <td>0</td>\n    </tr>\n    <tr>\n      <td>1041840</td>\n      <td>2/26/18</td>\n      <td>WN</td>\n      <td>611</td>\n      <td>BNA</td>\n      <td>MCI</td>\n      <td>-1.0</td>\n      <td>-4.0</td>\n      <td>0</td>\n    </tr>\n    <tr>\n      <td>1041841</td>\n      <td>2/26/18</td>\n      <td>WN</td>\n      <td>672</td>\n      <td>BNA</td>\n      <td>MCI</td>\n      <td>12.0</td>\n      <td>7.0</td>\n      <td>0</td>\n    </tr>\n    <tr>\n      <td>1041842</td>\n      <td>2/26/18</td>\n      <td>WN</td>\n      <td>2052</td>\n      <td>BNA</td>\n      <td>MCI</td>\n      <td>-3.0</td>\n      <td>-7.0</td>\n      <td>0</td>\n    </tr>\n  </tbody>\n</table>\n<p>194587 rows × 8 columns</p>\n</div>"
     },
     "metadata": {},
     "execution_count": 5
    }
   ],
   "source": [
    "\n",
    "# filtering through the rows to get SW airlines data\n",
    "sw_airlines_selection = year_2018_fileDF_clean['Airline Identifier'] =='WN'\n",
    "# print(sw_airlines.head\n",
    "\n",
    "\n",
    "sw_airlines_selection_new = year_2018_fileDF_clean[sw_airlines_selection]\n",
    "# print (sw_airlines_selection_new)\n",
    "\n",
    "# dropping the null values if any\n",
    "\n",
    "sw_airlines_selection_new.dropna()\n"
   ]
  },
  {
   "cell_type": "code",
   "execution_count": 6,
   "metadata": {},
   "outputs": [
    {
     "output_type": "execute_result",
     "data": {
      "text/plain": "        Date of Flight Airline Identifier  Flight No. Origin Destination  \\\n16112           1/1/18                 DL           2    JFK         TPA   \n16113           1/1/18                 DL           4    SLC         JFK   \n16114           1/1/18                 DL           6    LAX         SLC   \n16115           1/1/18                 DL           7    SLC         LAX   \n16116           1/1/18                 DL          11    MSP         MCI   \n...                ...                ...         ...    ...         ...   \n1048570        2/26/18                 DL        2393    ATL         FLL   \n1048571        2/26/18                 DL        2393    FLL         ATL   \n1048572        2/26/18                 DL        2394    ATL         PHL   \n1048573        2/26/18                 DL        2395    PBI         LGA   \n1048574        2/26/18                 DL        2396    ATL         RSW   \n\n         DEP_DELAY  ARR_DELAY  CANCELLED  \n16112         -4.0      -27.0          0  \n16113          0.0      -14.0          0  \n16114         -2.0       -6.0          0  \n16115         -3.0      -14.0          0  \n16116         34.0       11.0          0  \n...            ...        ...        ...  \n1048570       -3.0      -14.0          0  \n1048571       -8.0      -19.0          0  \n1048572        8.0       -3.0          0  \n1048573       -6.0      -31.0          0  \n1048574       -3.0      -10.0          0  \n\n[130151 rows x 8 columns]",
      "text/html": "<div>\n<style scoped>\n    .dataframe tbody tr th:only-of-type {\n        vertical-align: middle;\n    }\n\n    .dataframe tbody tr th {\n        vertical-align: top;\n    }\n\n    .dataframe thead th {\n        text-align: right;\n    }\n</style>\n<table border=\"1\" class=\"dataframe\">\n  <thead>\n    <tr style=\"text-align: right;\">\n      <th></th>\n      <th>Date of Flight</th>\n      <th>Airline Identifier</th>\n      <th>Flight No.</th>\n      <th>Origin</th>\n      <th>Destination</th>\n      <th>DEP_DELAY</th>\n      <th>ARR_DELAY</th>\n      <th>CANCELLED</th>\n    </tr>\n  </thead>\n  <tbody>\n    <tr>\n      <td>16112</td>\n      <td>1/1/18</td>\n      <td>DL</td>\n      <td>2</td>\n      <td>JFK</td>\n      <td>TPA</td>\n      <td>-4.0</td>\n      <td>-27.0</td>\n      <td>0</td>\n    </tr>\n    <tr>\n      <td>16113</td>\n      <td>1/1/18</td>\n      <td>DL</td>\n      <td>4</td>\n      <td>SLC</td>\n      <td>JFK</td>\n      <td>0.0</td>\n      <td>-14.0</td>\n      <td>0</td>\n    </tr>\n    <tr>\n      <td>16114</td>\n      <td>1/1/18</td>\n      <td>DL</td>\n      <td>6</td>\n      <td>LAX</td>\n      <td>SLC</td>\n      <td>-2.0</td>\n      <td>-6.0</td>\n      <td>0</td>\n    </tr>\n    <tr>\n      <td>16115</td>\n      <td>1/1/18</td>\n      <td>DL</td>\n      <td>7</td>\n      <td>SLC</td>\n      <td>LAX</td>\n      <td>-3.0</td>\n      <td>-14.0</td>\n      <td>0</td>\n    </tr>\n    <tr>\n      <td>16116</td>\n      <td>1/1/18</td>\n      <td>DL</td>\n      <td>11</td>\n      <td>MSP</td>\n      <td>MCI</td>\n      <td>34.0</td>\n      <td>11.0</td>\n      <td>0</td>\n    </tr>\n    <tr>\n      <td>...</td>\n      <td>...</td>\n      <td>...</td>\n      <td>...</td>\n      <td>...</td>\n      <td>...</td>\n      <td>...</td>\n      <td>...</td>\n      <td>...</td>\n    </tr>\n    <tr>\n      <td>1048570</td>\n      <td>2/26/18</td>\n      <td>DL</td>\n      <td>2393</td>\n      <td>ATL</td>\n      <td>FLL</td>\n      <td>-3.0</td>\n      <td>-14.0</td>\n      <td>0</td>\n    </tr>\n    <tr>\n      <td>1048571</td>\n      <td>2/26/18</td>\n      <td>DL</td>\n      <td>2393</td>\n      <td>FLL</td>\n      <td>ATL</td>\n      <td>-8.0</td>\n      <td>-19.0</td>\n      <td>0</td>\n    </tr>\n    <tr>\n      <td>1048572</td>\n      <td>2/26/18</td>\n      <td>DL</td>\n      <td>2394</td>\n      <td>ATL</td>\n      <td>PHL</td>\n      <td>8.0</td>\n      <td>-3.0</td>\n      <td>0</td>\n    </tr>\n    <tr>\n      <td>1048573</td>\n      <td>2/26/18</td>\n      <td>DL</td>\n      <td>2395</td>\n      <td>PBI</td>\n      <td>LGA</td>\n      <td>-6.0</td>\n      <td>-31.0</td>\n      <td>0</td>\n    </tr>\n    <tr>\n      <td>1048574</td>\n      <td>2/26/18</td>\n      <td>DL</td>\n      <td>2396</td>\n      <td>ATL</td>\n      <td>RSW</td>\n      <td>-3.0</td>\n      <td>-10.0</td>\n      <td>0</td>\n    </tr>\n  </tbody>\n</table>\n<p>130151 rows × 8 columns</p>\n</div>"
     },
     "metadata": {},
     "execution_count": 6
    }
   ],
   "source": [
    "# filtering through the rows to get Delta airlines data only\n",
    "Delta_airlines_selection = year_2018_fileDF_clean['Airline Identifier'] =='DL'\n",
    "# print(Delta_airlines_selection.head)\n",
    "\n",
    "\n",
    "Delta_airlines_selection_new = year_2018_fileDF_clean[Delta_airlines_selection]\n",
    "# print (Delta_airlines_selection_new)\n",
    "\n",
    "Delta_airlines_selection_new.dropna()"
   ]
  },
  {
   "cell_type": "code",
   "execution_count": 7,
   "metadata": {},
   "outputs": [
    {
     "output_type": "execute_result",
     "data": {
      "text/plain": "  Date of Flight Airline Identifier  Flight No. Origin Destination  DEP_DELAY  \\\n0         1/1/18                 WN        1491    ABQ         BWI        7.0   \n1         1/1/18                 WN          39    ABQ         DAL       -3.0   \n2         1/1/18                 WN         313    ABQ         DAL       -1.0   \n3         1/1/18                 WN         395    ABQ         DAL        0.0   \n4         1/1/18                 WN        1220    ABQ         DAL       -7.0   \n\n   ARR_DELAY  CANCELLED  \n0      -13.0          0  \n1      -17.0          0  \n2      -14.0          0  \n3        0.0          0  \n4      -17.0          0  ",
      "text/html": "<div>\n<style scoped>\n    .dataframe tbody tr th:only-of-type {\n        vertical-align: middle;\n    }\n\n    .dataframe tbody tr th {\n        vertical-align: top;\n    }\n\n    .dataframe thead th {\n        text-align: right;\n    }\n</style>\n<table border=\"1\" class=\"dataframe\">\n  <thead>\n    <tr style=\"text-align: right;\">\n      <th></th>\n      <th>Date of Flight</th>\n      <th>Airline Identifier</th>\n      <th>Flight No.</th>\n      <th>Origin</th>\n      <th>Destination</th>\n      <th>DEP_DELAY</th>\n      <th>ARR_DELAY</th>\n      <th>CANCELLED</th>\n    </tr>\n  </thead>\n  <tbody>\n    <tr>\n      <td>0</td>\n      <td>1/1/18</td>\n      <td>WN</td>\n      <td>1491</td>\n      <td>ABQ</td>\n      <td>BWI</td>\n      <td>7.0</td>\n      <td>-13.0</td>\n      <td>0</td>\n    </tr>\n    <tr>\n      <td>1</td>\n      <td>1/1/18</td>\n      <td>WN</td>\n      <td>39</td>\n      <td>ABQ</td>\n      <td>DAL</td>\n      <td>-3.0</td>\n      <td>-17.0</td>\n      <td>0</td>\n    </tr>\n    <tr>\n      <td>2</td>\n      <td>1/1/18</td>\n      <td>WN</td>\n      <td>313</td>\n      <td>ABQ</td>\n      <td>DAL</td>\n      <td>-1.0</td>\n      <td>-14.0</td>\n      <td>0</td>\n    </tr>\n    <tr>\n      <td>3</td>\n      <td>1/1/18</td>\n      <td>WN</td>\n      <td>395</td>\n      <td>ABQ</td>\n      <td>DAL</td>\n      <td>0.0</td>\n      <td>0.0</td>\n      <td>0</td>\n    </tr>\n    <tr>\n      <td>4</td>\n      <td>1/1/18</td>\n      <td>WN</td>\n      <td>1220</td>\n      <td>ABQ</td>\n      <td>DAL</td>\n      <td>-7.0</td>\n      <td>-17.0</td>\n      <td>0</td>\n    </tr>\n  </tbody>\n</table>\n</div>"
     },
     "metadata": {},
     "execution_count": 7
    }
   ],
   "source": [
    "# concatinating the two DFs (SW and DL) \n",
    "# using append\n",
    "\n",
    "joint_file = sw_airlines_selection_new.append(Delta_airlines_selection_new)\n",
    "a= joint_file.dropna()\n",
    "a.reset_index(drop=True, inplace=True)\n",
    "a.head()"
   ]
  },
  {
   "cell_type": "code",
   "execution_count": 8,
   "metadata": {},
   "outputs": [],
   "source": [
    "# dataframe to csv\n",
    "a.to_csv(\"2018_airlines_file.csv\", index= False)"
   ]
  },
  {
   "cell_type": "code",
   "execution_count": null,
   "metadata": {},
   "outputs": [],
   "source": []
  }
 ],
 "metadata": {
  "kernelspec": {
   "display_name": "Python 3",
   "language": "python",
   "name": "python3"
  },
  "language_info": {
   "codemirror_mode": {
    "name": "ipython",
    "version": 3
   },
   "file_extension": ".py",
   "mimetype": "text/x-python",
   "name": "python",
   "nbconvert_exporter": "python",
   "pygments_lexer": "ipython3",
   "version": "3.7.4-final"
  }
 },
 "nbformat": 4,
 "nbformat_minor": 2
}