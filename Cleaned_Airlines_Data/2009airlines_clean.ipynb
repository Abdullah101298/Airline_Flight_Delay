{
 "cells": [
  {
   "cell_type": "code",
   "execution_count": 5,
   "metadata": {},
   "outputs": [],
   "source": [
    "# dependancies\n",
    "import pandas as pd\n",
    "import numpy as np"
   ]
  },
  {
   "cell_type": "code",
   "execution_count": 6,
   "metadata": {},
   "outputs": [
    {
     "output_type": "execute_result",
     "data": {
      "text/plain": "        FL_DATE OP_CARRIER  OP_CARRIER_FL_NUM ORIGIN DEST  DEP_DELAY  \\\n0        1/1/09         XE               1204    DCA  EWR       -2.0   \n1        1/1/09         XE               1206    EWR  IAD       -1.0   \n2        1/1/09         XE               1207    EWR  DCA       -1.0   \n3        1/1/09         XE               1208    DCA  EWR        9.0   \n4        1/1/09         XE               1209    IAD  EWR      -10.0   \n...         ...        ...                ...    ...  ...        ...   \n1048570  3/2/09         WN               1628    DAL  HOU       -2.0   \n1048571  3/2/09         WN                 44    DAL  LBB        1.0   \n1048572  3/2/09         WN                643    DAL  LBB        8.0   \n1048573  3/2/09         WN               1217    DAL  LBB       -5.0   \n1048574  3/2/09         WN               1608    DAL  LBB        1.0   \n\n         ARR_DELAY  CANCELLED  \n0              4.0          0  \n1             -8.0          0  \n2             -9.0          0  \n3            -12.0          0  \n4            -38.0          0  \n...            ...        ...  \n1048570       -8.0          0  \n1048571       -9.0          0  \n1048572       -7.0          0  \n1048573      -14.0          0  \n1048574      -10.0          0  \n\n[1048575 rows x 8 columns]",
      "text/html": "<div>\n<style scoped>\n    .dataframe tbody tr th:only-of-type {\n        vertical-align: middle;\n    }\n\n    .dataframe tbody tr th {\n        vertical-align: top;\n    }\n\n    .dataframe thead th {\n        text-align: right;\n    }\n</style>\n<table border=\"1\" class=\"dataframe\">\n  <thead>\n    <tr style=\"text-align: right;\">\n      <th></th>\n      <th>FL_DATE</th>\n      <th>OP_CARRIER</th>\n      <th>OP_CARRIER_FL_NUM</th>\n      <th>ORIGIN</th>\n      <th>DEST</th>\n      <th>DEP_DELAY</th>\n      <th>ARR_DELAY</th>\n      <th>CANCELLED</th>\n    </tr>\n  </thead>\n  <tbody>\n    <tr>\n      <td>0</td>\n      <td>1/1/09</td>\n      <td>XE</td>\n      <td>1204</td>\n      <td>DCA</td>\n      <td>EWR</td>\n      <td>-2.0</td>\n      <td>4.0</td>\n      <td>0</td>\n    </tr>\n    <tr>\n      <td>1</td>\n      <td>1/1/09</td>\n      <td>XE</td>\n      <td>1206</td>\n      <td>EWR</td>\n      <td>IAD</td>\n      <td>-1.0</td>\n      <td>-8.0</td>\n      <td>0</td>\n    </tr>\n    <tr>\n      <td>2</td>\n      <td>1/1/09</td>\n      <td>XE</td>\n      <td>1207</td>\n      <td>EWR</td>\n      <td>DCA</td>\n      <td>-1.0</td>\n      <td>-9.0</td>\n      <td>0</td>\n    </tr>\n    <tr>\n      <td>3</td>\n      <td>1/1/09</td>\n      <td>XE</td>\n      <td>1208</td>\n      <td>DCA</td>\n      <td>EWR</td>\n      <td>9.0</td>\n      <td>-12.0</td>\n      <td>0</td>\n    </tr>\n    <tr>\n      <td>4</td>\n      <td>1/1/09</td>\n      <td>XE</td>\n      <td>1209</td>\n      <td>IAD</td>\n      <td>EWR</td>\n      <td>-10.0</td>\n      <td>-38.0</td>\n      <td>0</td>\n    </tr>\n    <tr>\n      <td>...</td>\n      <td>...</td>\n      <td>...</td>\n      <td>...</td>\n      <td>...</td>\n      <td>...</td>\n      <td>...</td>\n      <td>...</td>\n      <td>...</td>\n    </tr>\n    <tr>\n      <td>1048570</td>\n      <td>3/2/09</td>\n      <td>WN</td>\n      <td>1628</td>\n      <td>DAL</td>\n      <td>HOU</td>\n      <td>-2.0</td>\n      <td>-8.0</td>\n      <td>0</td>\n    </tr>\n    <tr>\n      <td>1048571</td>\n      <td>3/2/09</td>\n      <td>WN</td>\n      <td>44</td>\n      <td>DAL</td>\n      <td>LBB</td>\n      <td>1.0</td>\n      <td>-9.0</td>\n      <td>0</td>\n    </tr>\n    <tr>\n      <td>1048572</td>\n      <td>3/2/09</td>\n      <td>WN</td>\n      <td>643</td>\n      <td>DAL</td>\n      <td>LBB</td>\n      <td>8.0</td>\n      <td>-7.0</td>\n      <td>0</td>\n    </tr>\n    <tr>\n      <td>1048573</td>\n      <td>3/2/09</td>\n      <td>WN</td>\n      <td>1217</td>\n      <td>DAL</td>\n      <td>LBB</td>\n      <td>-5.0</td>\n      <td>-14.0</td>\n      <td>0</td>\n    </tr>\n    <tr>\n      <td>1048574</td>\n      <td>3/2/09</td>\n      <td>WN</td>\n      <td>1608</td>\n      <td>DAL</td>\n      <td>LBB</td>\n      <td>1.0</td>\n      <td>-10.0</td>\n      <td>0</td>\n    </tr>\n  </tbody>\n</table>\n<p>1048575 rows × 8 columns</p>\n</div>"
     },
     "metadata": {},
     "execution_count": 6
    }
   ],
   "source": [
    "# file to load\n",
    "year_2009_file = \"../Data/2009.csv\"\n",
    "\n",
    "# Read Purchasing File and store into Pandas data frame\n",
    "year_2009_fileDF = pd.read_csv(year_2009_file)\n",
    "\n",
    "year_2009_fileDF"
   ]
  },
  {
   "cell_type": "markdown",
   "metadata": {},
   "source": [
    "DATA CLEANUP"
   ]
  },
  {
   "cell_type": "code",
   "execution_count": 7,
   "metadata": {},
   "outputs": [
    {
     "output_type": "execute_result",
     "data": {
      "text/plain": "Index(['FL_DATE', 'OP_CARRIER', 'OP_CARRIER_FL_NUM', 'ORIGIN', 'DEST',\n       'DEP_DELAY', 'ARR_DELAY', 'CANCELLED'],\n      dtype='object')"
     },
     "metadata": {},
     "execution_count": 7
    }
   ],
   "source": [
    "# list the columns\n",
    "year_2009_fileDF.columns"
   ]
  },
  {
   "cell_type": "code",
   "execution_count": 8,
   "metadata": {},
   "outputs": [
    {
     "output_type": "execute_result",
     "data": {
      "text/plain": "  Date of Flight Airline Identifier  Flight No. Origin Destination  DEP_DELAY  \\\n0         1/1/09                 XE        1204    DCA         EWR       -2.0   \n1         1/1/09                 XE        1206    EWR         IAD       -1.0   \n2         1/1/09                 XE        1207    EWR         DCA       -1.0   \n3         1/1/09                 XE        1208    DCA         EWR        9.0   \n4         1/1/09                 XE        1209    IAD         EWR      -10.0   \n\n   ARR_DELAY  CANCELLED  \n0        4.0          0  \n1       -8.0          0  \n2       -9.0          0  \n3      -12.0          0  \n4      -38.0          0  ",
      "text/html": "<div>\n<style scoped>\n    .dataframe tbody tr th:only-of-type {\n        vertical-align: middle;\n    }\n\n    .dataframe tbody tr th {\n        vertical-align: top;\n    }\n\n    .dataframe thead th {\n        text-align: right;\n    }\n</style>\n<table border=\"1\" class=\"dataframe\">\n  <thead>\n    <tr style=\"text-align: right;\">\n      <th></th>\n      <th>Date of Flight</th>\n      <th>Airline Identifier</th>\n      <th>Flight No.</th>\n      <th>Origin</th>\n      <th>Destination</th>\n      <th>DEP_DELAY</th>\n      <th>ARR_DELAY</th>\n      <th>CANCELLED</th>\n    </tr>\n  </thead>\n  <tbody>\n    <tr>\n      <td>0</td>\n      <td>1/1/09</td>\n      <td>XE</td>\n      <td>1204</td>\n      <td>DCA</td>\n      <td>EWR</td>\n      <td>-2.0</td>\n      <td>4.0</td>\n      <td>0</td>\n    </tr>\n    <tr>\n      <td>1</td>\n      <td>1/1/09</td>\n      <td>XE</td>\n      <td>1206</td>\n      <td>EWR</td>\n      <td>IAD</td>\n      <td>-1.0</td>\n      <td>-8.0</td>\n      <td>0</td>\n    </tr>\n    <tr>\n      <td>2</td>\n      <td>1/1/09</td>\n      <td>XE</td>\n      <td>1207</td>\n      <td>EWR</td>\n      <td>DCA</td>\n      <td>-1.0</td>\n      <td>-9.0</td>\n      <td>0</td>\n    </tr>\n    <tr>\n      <td>3</td>\n      <td>1/1/09</td>\n      <td>XE</td>\n      <td>1208</td>\n      <td>DCA</td>\n      <td>EWR</td>\n      <td>9.0</td>\n      <td>-12.0</td>\n      <td>0</td>\n    </tr>\n    <tr>\n      <td>4</td>\n      <td>1/1/09</td>\n      <td>XE</td>\n      <td>1209</td>\n      <td>IAD</td>\n      <td>EWR</td>\n      <td>-10.0</td>\n      <td>-38.0</td>\n      <td>0</td>\n    </tr>\n  </tbody>\n</table>\n</div>"
     },
     "metadata": {},
     "execution_count": 8
    }
   ],
   "source": [
    "# picking only the needed columns\n",
    "year_2009_fileDF_clean = year_2009_fileDF[['FL_DATE', 'OP_CARRIER', 'OP_CARRIER_FL_NUM', 'ORIGIN','DEST',\n",
    "      'DEP_DELAY','ARR_DELAY','CANCELLED']]\n",
    "\n",
    "\n",
    "# Renaming the selected columns\n",
    "\n",
    "year_2009_fileDF_clean.columns = ['Date of Flight', 'Airline Identifier', 'Flight No.','Origin',\n",
    "                                  'Destination','DEP_DELAY','ARR_DELAY','CANCELLED'] \n",
    "\n",
    "year_2009_fileDF_clean.set_index(\"Date of Flight\", inplace = False)\n",
    "year_2009_fileDF_clean.head()"
   ]
  },
  {
   "cell_type": "code",
   "execution_count": 9,
   "metadata": {},
   "outputs": [
    {
     "output_type": "stream",
     "name": "stdout",
     "text": "(186030, 8)\n"
    },
    {
     "output_type": "execute_result",
     "data": {
      "text/plain": "        Date of Flight Airline Identifier  Flight No. Origin Destination  \\\n5281            1/1/09                 WN         669    ABQ         AMA   \n5282            1/1/09                 WN        3173    ABQ         BWI   \n5283            1/1/09                 WN          45    ABQ         DAL   \n5284            1/1/09                 WN         102    ABQ         DAL   \n5286            1/1/09                 WN         324    ABQ         DAL   \n...                ...                ...         ...    ...         ...   \n1048570         3/2/09                 WN        1628    DAL         HOU   \n1048571         3/2/09                 WN          44    DAL         LBB   \n1048572         3/2/09                 WN         643    DAL         LBB   \n1048573         3/2/09                 WN        1217    DAL         LBB   \n1048574         3/2/09                 WN        1608    DAL         LBB   \n\n         DEP_DELAY  ARR_DELAY  CANCELLED  \n5281          -5.0       -7.0          0  \n5282           0.0       -5.0          0  \n5283          74.0       68.0          0  \n5284           1.0        3.0          0  \n5286           2.0       -3.0          0  \n...            ...        ...        ...  \n1048570       -2.0       -8.0          0  \n1048571        1.0       -9.0          0  \n1048572        8.0       -7.0          0  \n1048573       -5.0      -14.0          0  \n1048574        1.0      -10.0          0  \n\n[183480 rows x 8 columns]",
      "text/html": "<div>\n<style scoped>\n    .dataframe tbody tr th:only-of-type {\n        vertical-align: middle;\n    }\n\n    .dataframe tbody tr th {\n        vertical-align: top;\n    }\n\n    .dataframe thead th {\n        text-align: right;\n    }\n</style>\n<table border=\"1\" class=\"dataframe\">\n  <thead>\n    <tr style=\"text-align: right;\">\n      <th></th>\n      <th>Date of Flight</th>\n      <th>Airline Identifier</th>\n      <th>Flight No.</th>\n      <th>Origin</th>\n      <th>Destination</th>\n      <th>DEP_DELAY</th>\n      <th>ARR_DELAY</th>\n      <th>CANCELLED</th>\n    </tr>\n  </thead>\n  <tbody>\n    <tr>\n      <td>5281</td>\n      <td>1/1/09</td>\n      <td>WN</td>\n      <td>669</td>\n      <td>ABQ</td>\n      <td>AMA</td>\n      <td>-5.0</td>\n      <td>-7.0</td>\n      <td>0</td>\n    </tr>\n    <tr>\n      <td>5282</td>\n      <td>1/1/09</td>\n      <td>WN</td>\n      <td>3173</td>\n      <td>ABQ</td>\n      <td>BWI</td>\n      <td>0.0</td>\n      <td>-5.0</td>\n      <td>0</td>\n    </tr>\n    <tr>\n      <td>5283</td>\n      <td>1/1/09</td>\n      <td>WN</td>\n      <td>45</td>\n      <td>ABQ</td>\n      <td>DAL</td>\n      <td>74.0</td>\n      <td>68.0</td>\n      <td>0</td>\n    </tr>\n    <tr>\n      <td>5284</td>\n      <td>1/1/09</td>\n      <td>WN</td>\n      <td>102</td>\n      <td>ABQ</td>\n      <td>DAL</td>\n      <td>1.0</td>\n      <td>3.0</td>\n      <td>0</td>\n    </tr>\n    <tr>\n      <td>5286</td>\n      <td>1/1/09</td>\n      <td>WN</td>\n      <td>324</td>\n      <td>ABQ</td>\n      <td>DAL</td>\n      <td>2.0</td>\n      <td>-3.0</td>\n      <td>0</td>\n    </tr>\n    <tr>\n      <td>...</td>\n      <td>...</td>\n      <td>...</td>\n      <td>...</td>\n      <td>...</td>\n      <td>...</td>\n      <td>...</td>\n      <td>...</td>\n      <td>...</td>\n    </tr>\n    <tr>\n      <td>1048570</td>\n      <td>3/2/09</td>\n      <td>WN</td>\n      <td>1628</td>\n      <td>DAL</td>\n      <td>HOU</td>\n      <td>-2.0</td>\n      <td>-8.0</td>\n      <td>0</td>\n    </tr>\n    <tr>\n      <td>1048571</td>\n      <td>3/2/09</td>\n      <td>WN</td>\n      <td>44</td>\n      <td>DAL</td>\n      <td>LBB</td>\n      <td>1.0</td>\n      <td>-9.0</td>\n      <td>0</td>\n    </tr>\n    <tr>\n      <td>1048572</td>\n      <td>3/2/09</td>\n      <td>WN</td>\n      <td>643</td>\n      <td>DAL</td>\n      <td>LBB</td>\n      <td>8.0</td>\n      <td>-7.0</td>\n      <td>0</td>\n    </tr>\n    <tr>\n      <td>1048573</td>\n      <td>3/2/09</td>\n      <td>WN</td>\n      <td>1217</td>\n      <td>DAL</td>\n      <td>LBB</td>\n      <td>-5.0</td>\n      <td>-14.0</td>\n      <td>0</td>\n    </tr>\n    <tr>\n      <td>1048574</td>\n      <td>3/2/09</td>\n      <td>WN</td>\n      <td>1608</td>\n      <td>DAL</td>\n      <td>LBB</td>\n      <td>1.0</td>\n      <td>-10.0</td>\n      <td>0</td>\n    </tr>\n  </tbody>\n</table>\n<p>183480 rows × 8 columns</p>\n</div>"
     },
     "metadata": {},
     "execution_count": 9
    }
   ],
   "source": [
    "# filtering through the rows to get SW airlines data\n",
    "sw_airlines_selection = year_2009_fileDF_clean['Airline Identifier'] =='WN'\n",
    "# print(sw_airlines.head)\n",
    "\n",
    "\n",
    "sw_airlines_selection_new = year_2009_fileDF_clean[sw_airlines_selection]\n",
    "print (sw_airlines_selection_new.shape)\n",
    "\n",
    "\n",
    "# sw_airlines_selection_new.set_index(\"Date of Flight\")\n",
    "\n",
    "# dropping the null values if any\n",
    "sw_airlines_selection_new.dropna()"
   ]
  },
  {
   "cell_type": "code",
   "execution_count": 10,
   "metadata": {},
   "outputs": [
    {
     "output_type": "stream",
     "name": "stdout",
     "text": "(69841, 8)\n"
    },
    {
     "output_type": "execute_result",
     "data": {
      "text/plain": "        Date of Flight Airline Identifier  Flight No. Origin Destination  \\\n15209           1/1/09                 DL           1    MCO         JFK   \n15210           1/1/09                 DL           3    SLC         JFK   \n15211           1/1/09                 DL           4    JFK         MCO   \n15212           1/1/09                 DL           8    IAH         ATL   \n15213           1/1/09                 DL           9    ATL         JAX   \n...                ...                ...         ...    ...         ...   \n1025776         3/1/09                 DL        2092    LAX         ATL   \n1025777         3/1/09                 DL        2092    ATL         MCO   \n1025780         3/1/09                 DL        2094    LAX         ATL   \n1025781         3/1/09                 DL        2096    LAX         ATL   \n1025782         3/1/09                 DL        2097    ATL         LAX   \n\n         DEP_DELAY  ARR_DELAY  CANCELLED  \n15209         77.0       58.0          0  \n15210          8.0        2.0          0  \n15211         93.0       92.0          0  \n15212        277.0      264.0          0  \n15213          0.0       -6.0          0  \n...            ...        ...        ...  \n1025776        2.0        2.0          0  \n1025777      165.0      159.0          0  \n1025780        1.0        4.0          0  \n1025781       -2.0       -3.0          0  \n1025782       22.0        0.0          0  \n\n[68297 rows x 8 columns]",
      "text/html": "<div>\n<style scoped>\n    .dataframe tbody tr th:only-of-type {\n        vertical-align: middle;\n    }\n\n    .dataframe tbody tr th {\n        vertical-align: top;\n    }\n\n    .dataframe thead th {\n        text-align: right;\n    }\n</style>\n<table border=\"1\" class=\"dataframe\">\n  <thead>\n    <tr style=\"text-align: right;\">\n      <th></th>\n      <th>Date of Flight</th>\n      <th>Airline Identifier</th>\n      <th>Flight No.</th>\n      <th>Origin</th>\n      <th>Destination</th>\n      <th>DEP_DELAY</th>\n      <th>ARR_DELAY</th>\n      <th>CANCELLED</th>\n    </tr>\n  </thead>\n  <tbody>\n    <tr>\n      <td>15209</td>\n      <td>1/1/09</td>\n      <td>DL</td>\n      <td>1</td>\n      <td>MCO</td>\n      <td>JFK</td>\n      <td>77.0</td>\n      <td>58.0</td>\n      <td>0</td>\n    </tr>\n    <tr>\n      <td>15210</td>\n      <td>1/1/09</td>\n      <td>DL</td>\n      <td>3</td>\n      <td>SLC</td>\n      <td>JFK</td>\n      <td>8.0</td>\n      <td>2.0</td>\n      <td>0</td>\n    </tr>\n    <tr>\n      <td>15211</td>\n      <td>1/1/09</td>\n      <td>DL</td>\n      <td>4</td>\n      <td>JFK</td>\n      <td>MCO</td>\n      <td>93.0</td>\n      <td>92.0</td>\n      <td>0</td>\n    </tr>\n    <tr>\n      <td>15212</td>\n      <td>1/1/09</td>\n      <td>DL</td>\n      <td>8</td>\n      <td>IAH</td>\n      <td>ATL</td>\n      <td>277.0</td>\n      <td>264.0</td>\n      <td>0</td>\n    </tr>\n    <tr>\n      <td>15213</td>\n      <td>1/1/09</td>\n      <td>DL</td>\n      <td>9</td>\n      <td>ATL</td>\n      <td>JAX</td>\n      <td>0.0</td>\n      <td>-6.0</td>\n      <td>0</td>\n    </tr>\n    <tr>\n      <td>...</td>\n      <td>...</td>\n      <td>...</td>\n      <td>...</td>\n      <td>...</td>\n      <td>...</td>\n      <td>...</td>\n      <td>...</td>\n      <td>...</td>\n    </tr>\n    <tr>\n      <td>1025776</td>\n      <td>3/1/09</td>\n      <td>DL</td>\n      <td>2092</td>\n      <td>LAX</td>\n      <td>ATL</td>\n      <td>2.0</td>\n      <td>2.0</td>\n      <td>0</td>\n    </tr>\n    <tr>\n      <td>1025777</td>\n      <td>3/1/09</td>\n      <td>DL</td>\n      <td>2092</td>\n      <td>ATL</td>\n      <td>MCO</td>\n      <td>165.0</td>\n      <td>159.0</td>\n      <td>0</td>\n    </tr>\n    <tr>\n      <td>1025780</td>\n      <td>3/1/09</td>\n      <td>DL</td>\n      <td>2094</td>\n      <td>LAX</td>\n      <td>ATL</td>\n      <td>1.0</td>\n      <td>4.0</td>\n      <td>0</td>\n    </tr>\n    <tr>\n      <td>1025781</td>\n      <td>3/1/09</td>\n      <td>DL</td>\n      <td>2096</td>\n      <td>LAX</td>\n      <td>ATL</td>\n      <td>-2.0</td>\n      <td>-3.0</td>\n      <td>0</td>\n    </tr>\n    <tr>\n      <td>1025782</td>\n      <td>3/1/09</td>\n      <td>DL</td>\n      <td>2097</td>\n      <td>ATL</td>\n      <td>LAX</td>\n      <td>22.0</td>\n      <td>0.0</td>\n      <td>0</td>\n    </tr>\n  </tbody>\n</table>\n<p>68297 rows × 8 columns</p>\n</div>"
     },
     "metadata": {},
     "execution_count": 10
    }
   ],
   "source": [
    "# filtering through the rows to get Delta airlines data only\n",
    "Delta_airlines_selection = year_2009_fileDF_clean['Airline Identifier'] =='DL'\n",
    "# print(Delta_airlines_selection.head)\n",
    "\n",
    "\n",
    "Delta_airlines_selection_new = year_2009_fileDF_clean[Delta_airlines_selection]\n",
    "print (Delta_airlines_selection_new.shape)\n",
    "\n",
    "#dropping null values\n",
    "Delta_airlines_selection_new.dropna()\n",
    "Delta_airlines_selection_new.set_index('Date of Flight', inplace= False)\n",
    "Delta_airlines_selection_new.dropna()"
   ]
  },
  {
   "cell_type": "code",
   "execution_count": 11,
   "metadata": {},
   "outputs": [
    {
     "output_type": "execute_result",
     "data": {
      "text/plain": "     Date of Flight Airline Identifier  Flight No. Origin Destination  \\\n5281         1/1/09                 WN         669    ABQ         AMA   \n5282         1/1/09                 WN        3173    ABQ         BWI   \n5283         1/1/09                 WN          45    ABQ         DAL   \n5284         1/1/09                 WN         102    ABQ         DAL   \n5286         1/1/09                 WN         324    ABQ         DAL   \n\n      DEP_DELAY  ARR_DELAY  CANCELLED  \n5281       -5.0       -7.0          0  \n5282        0.0       -5.0          0  \n5283       74.0       68.0          0  \n5284        1.0        3.0          0  \n5286        2.0       -3.0          0  ",
      "text/html": "<div>\n<style scoped>\n    .dataframe tbody tr th:only-of-type {\n        vertical-align: middle;\n    }\n\n    .dataframe tbody tr th {\n        vertical-align: top;\n    }\n\n    .dataframe thead th {\n        text-align: right;\n    }\n</style>\n<table border=\"1\" class=\"dataframe\">\n  <thead>\n    <tr style=\"text-align: right;\">\n      <th></th>\n      <th>Date of Flight</th>\n      <th>Airline Identifier</th>\n      <th>Flight No.</th>\n      <th>Origin</th>\n      <th>Destination</th>\n      <th>DEP_DELAY</th>\n      <th>ARR_DELAY</th>\n      <th>CANCELLED</th>\n    </tr>\n  </thead>\n  <tbody>\n    <tr>\n      <td>5281</td>\n      <td>1/1/09</td>\n      <td>WN</td>\n      <td>669</td>\n      <td>ABQ</td>\n      <td>AMA</td>\n      <td>-5.0</td>\n      <td>-7.0</td>\n      <td>0</td>\n    </tr>\n    <tr>\n      <td>5282</td>\n      <td>1/1/09</td>\n      <td>WN</td>\n      <td>3173</td>\n      <td>ABQ</td>\n      <td>BWI</td>\n      <td>0.0</td>\n      <td>-5.0</td>\n      <td>0</td>\n    </tr>\n    <tr>\n      <td>5283</td>\n      <td>1/1/09</td>\n      <td>WN</td>\n      <td>45</td>\n      <td>ABQ</td>\n      <td>DAL</td>\n      <td>74.0</td>\n      <td>68.0</td>\n      <td>0</td>\n    </tr>\n    <tr>\n      <td>5284</td>\n      <td>1/1/09</td>\n      <td>WN</td>\n      <td>102</td>\n      <td>ABQ</td>\n      <td>DAL</td>\n      <td>1.0</td>\n      <td>3.0</td>\n      <td>0</td>\n    </tr>\n    <tr>\n      <td>5286</td>\n      <td>1/1/09</td>\n      <td>WN</td>\n      <td>324</td>\n      <td>ABQ</td>\n      <td>DAL</td>\n      <td>2.0</td>\n      <td>-3.0</td>\n      <td>0</td>\n    </tr>\n  </tbody>\n</table>\n</div>"
     },
     "metadata": {},
     "execution_count": 11
    }
   ],
   "source": [
    "# concatinating the two DFs (SW and DL) \n",
    "# using append\n",
    "\n",
    "\n",
    "joint_file = sw_airlines_selection_new.append(Delta_airlines_selection_new, \n",
    "                                              ignore_index=False,sort=False)\n",
    "a = joint_file.dropna()\n",
    "a.head()"
   ]
  },
  {
   "cell_type": "code",
   "execution_count": 12,
   "metadata": {},
   "outputs": [],
   "source": [
    "a.reset_index(drop=True, inplace=True)\n",
    "a.head()\n",
    "# dataframe to csv\n",
    "a.to_csv(\"2009_airlines_file.csv\", index =False)"
   ]
  },
  {
   "cell_type": "code",
   "execution_count": null,
   "metadata": {},
   "outputs": [],
   "source": []
  }
 ],
 "metadata": {
  "kernelspec": {
   "display_name": "Python 3",
   "language": "python",
   "name": "python3"
  },
  "language_info": {
   "codemirror_mode": {
    "name": "ipython",
    "version": 3
   },
   "file_extension": ".py",
   "mimetype": "text/x-python",
   "name": "python",
   "nbconvert_exporter": "python",
   "pygments_lexer": "ipython3",
   "version": "3.7.4-final"
  }
 },
 "nbformat": 4,
 "nbformat_minor": 2
}