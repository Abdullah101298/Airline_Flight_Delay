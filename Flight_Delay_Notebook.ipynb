{
 "cells": [
  {
   "cell_type": "code",
   "execution_count": 1,
   "metadata": {},
   "outputs": [],
   "source": [
    "import pandas as pd"
   ]
  },
  {
   "cell_type": "code",
   "execution_count": 2,
   "metadata": {},
   "outputs": [],
   "source": [
    "df2009= pd.read_csv(\"2009.csv\")\n",
    "df2018= pd.read_csv(\"2018.csv\")"
   ]
  },
  {
   "cell_type": "code",
   "execution_count": 3,
   "metadata": {},
   "outputs": [],
   "source": [
    "df2009 = df2009.rename(columns = {\"FL_DATE\": \"Date\", \"OP_CARRIER\":\"Airline\",\"OP_CARRIER_FL_NUM\":\"Flight Number\", \n",
    "                       \"ORIGIN\":\"Origin\",\"DEST\":\"Dest\",\"DEP_DELAY\":\"Depart Delay\",\"ARR_DELAY\":\"Arrival Delay\",\"CANCELLED\":\"Cancelled\"})\n",
    "df2018 = df2018.rename(columns = {\"FL_DATE\": \"Date\", \"OP_CARRIER\":\"Airline\",\"OP_CARRIER_FL_NUM\":\"Flight Number\", \n",
    "                       \"ORIGIN\":\"Origin\",\"DEST\":\"Dest\",\"DEP_DELAY\":\"Depart Delay\",\"ARR_DELAY\":\"Arrival Delay\",\"CANCELLED\":\"Cancelled\"})"
   ]
  },
  {
   "cell_type": "code",
   "execution_count": 4,
   "metadata": {},
   "outputs": [],
   "source": [
    "delaydf = [] \n",
    "\n",
    "for i in range(len(df2009)): \n",
    "    \n",
    "    if (df2009[\"Origin\"][i]) == \"LAX\" or (df2009[\"Origin\"][i]) == \"IAH\" or (df2009[\"Origin\"][i]) == \"JFK\" or (df2009[\"Origin\"][i]) == \"ORD\" or (df2009[\"Origin\"][i]) == \"ATL\":\n",
    "\n",
    "        delaydf.append([df2009['Date'][i],df2009['Airline'][i],df2009['Flight Number'][i], \n",
    "                    df2009['Origin'][i],df2009['Dest'][i],df2009['Depart Delay'][i], \n",
    "                    df2009['Arrival Delay'][i],df2009['Cancelled'][i]\n",
    "                   \n",
    "                   ]) \n",
    "\n",
    "\n",
    "Flight_df = pd.DataFrame(delaydf) "
   ]
  },
  {
   "cell_type": "code",
   "execution_count": null,
   "metadata": {},
   "outputs": [],
   "source": [
    "delaydf18 = [] \n",
    "\n",
    "for i in range(len(df2018)): \n",
    "    \n",
    "    if (df2018[\"Origin\"][i]) == \"LAX\" or (df2018[\"Origin\"][i]) == \"IAH\" or (df2018[\"Origin\"][i]) == \"JFK\" or (df2018[\"Origin\"][i]) == \"ORD\" or (df2018[\"Origin\"][i]) == \"ATL\":\n",
    "\n",
    "        delaydf18.append([df2018['Date'][i],df2018['Airline'][i],df2018['Flight Number'][i], \n",
    "                    df2018['Origin'][i],df2018['Dest'][i],df2018['Depart Delay'][i], \n",
    "                    df2018['Arrival Delay'][i],df2018['Cancelled'][i]\n",
    "                   \n",
    "                   ]) \n",
    "\n",
    "\n",
    "Flight_df18 = pd.DataFrame(delaydf18) "
   ]
  },
  {
   "cell_type": "code",
   "execution_count": null,
   "metadata": {},
   "outputs": [],
   "source": []
  },
  {
   "cell_type": "code",
   "execution_count": null,
   "metadata": {},
   "outputs": [],
   "source": []
  }
 ],
 "metadata": {
  "kernelspec": {
   "display_name": "Python 3",
   "language": "python",
   "name": "python3"
  },
  "language_info": {
   "codemirror_mode": {
    "name": "ipython",
    "version": 3
   },
   "file_extension": ".py",
   "mimetype": "text/x-python",
   "name": "python",
   "nbconvert_exporter": "python",
   "pygments_lexer": "ipython3",
   "version": "3.7.4"
  }
 },
 "nbformat": 4,
 "nbformat_minor": 2
}
